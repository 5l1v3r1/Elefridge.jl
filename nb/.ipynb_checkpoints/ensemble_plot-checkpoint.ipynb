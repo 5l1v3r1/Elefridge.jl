{
 "cells": [
  {
   "cell_type": "code",
   "execution_count": 1,
   "metadata": {},
   "outputs": [],
   "source": [
    "using JLD2\n",
    "using FileIO\n",
    "using PyPlot\n",
    "using ColorSchemes\n",
    "using PyCall\n",
    "using StatsBase, Statistics\n",
    "GS = pyimport(\"matplotlib.gridspec\")\n",
    "ticker = pyimport(\"matplotlib.ticker\");\n",
    "patches = pyimport(\"matplotlib.patches\");"
   ]
  },
  {
   "cell_type": "code",
   "execution_count": null,
   "metadata": {},
   "outputs": [],
   "source": [
    "BI1 = load(\"/home/milan/analysis/bitinformation_50members_1-90.jld2\",\"BI\")\n",
    "BI2 = load(\"/home/milan/analysis/bitinformation_50members_90-144.jld2\",\"BI\")\n",
    "BI3 = load(\"/home/milan/analysis/bitinformation_50members_150-360.jld2\",\"BI\")\n",
    "\n",
    "BI = vcat(BI1,BI2,BI3);\n",
    "\n",
    "bitvec = collect(1:32)\n",
    "timevec1 = collect(1:90) / 24       # in days, hourly\n",
    "timevec2 = collect(93:3:144) / 24   # 3-hourly\n",
    "timevec3 = collect(150:6:360) / 24; # 6-hourly\n",
    "timevec = vcat(timevec1,timevec2,timevec3);\n",
    "\n",
    "BInan = copy(BI)\n",
    "BInan[iszero.(BI)] .= NaN;"
   ]
  },
  {
   "cell_type": "code",
   "execution_count": 3,
   "metadata": {
    "scrolled": true
   },
   "outputs": [
    {
     "data": {
      "text/plain": [
       "(144, 32)"
      ]
     },
     "execution_count": 3,
     "metadata": {},
     "output_type": "execute_result"
    }
   ],
   "source": [
    "size(BI)"
   ]
  },
  {
   "cell_type": "code",
   "execution_count": null,
   "metadata": {
    "scrolled": true
   },
   "outputs": [],
   "source": [
    "Xzstd1,Xzfp1 = load(\"/home/milan/analysis/ensemble_compression_1-90.jld2\",\"Xzstd\",\"Xzfp\")\n",
    "Xzstd2,Xzfp2 = load(\"/home/milan/analysis/ensemble_compression_90-144.jld2\",\"Xzstd\",\"Xzfp\")\n",
    "Xzstd3,Xzfp3 = load(\"/home/milan/analysis/ensemble_compression_150-360.jld2\",\"Xzstd\",\"Xzfp\")\n",
    "\n",
    "Xzstd = vcat(Xzstd1,Xzstd2,Xzstd3)\n",
    "Xzfp = vcat(Xzfp1,Xzfp2,Xzfp3)\n",
    "\n",
    "size(Xzstd)"
   ]
  },
  {
   "cell_type": "code",
   "execution_count": null,
   "metadata": {},
   "outputs": [],
   "source": [
    "# via preserving p amount of information\n",
    "p = 0.98\n",
    "ntsteps = size(BI)[1]\n",
    "bits_with_information = [argmax(cumsum(BI[t,:]) .> p*sum(BI[t,:])) for t in 1:ntsteps];"
   ]
  },
  {
   "cell_type": "code",
   "execution_count": 79,
   "metadata": {},
   "outputs": [],
   "source": [
    "# via insignificantly different from 0\n",
    "# pmax = maximum(BI[:,22:end])\n",
    "# argmin(diff(BI .> pmax,dims=2),dims=2)\n",
    "# bits_with_information = [argmin(diff(BI[t,:] .> pmax)) for t in 1:ntsteps];"
   ]
  },
  {
   "cell_type": "code",
   "execution_count": null,
   "metadata": {},
   "outputs": [],
   "source": [
    "## plotting\n",
    "fig = figure(figsize=(8,6))\n",
    "\n",
    "ax1 = fig.add_axes([0.1,0.4,.8,.55])\n",
    "shortx0 = 0.021\n",
    "ax2 = fig.add_axes([0.1+shortx0,0.25,.8-shortx0,.1])\n",
    "ax3 = fig.add_axes([0.1+shortx0,0.1,.8-shortx0,.1])\n",
    "\n",
    "pos = ax1.get_position()\n",
    "cax = fig.add_axes([pos.x1+0.01,pos.y0,0.02,pos.y1-pos.y0])\n",
    "ax1.invert_yaxis()\n",
    "\n",
    "# information\n",
    "cmap = ColorMap(ColorSchemes.turku.colors).reversed()\n",
    "cmap_array = cmap(0:1/100000:1)\n",
    "cmap_array[1,:] = [1,1,1,1]\n",
    "\n",
    "pcm = ax1.pcolormesh(timevec,bitvec,BInan',vmin=0,vmax=1,shading=\"nearest\";cmap)\n",
    "cbar = colorbar(pcm,cax=cax,orientation=\"vertical\")\n",
    "cbar.set_label(\"information content [bit]\")\n",
    "\n",
    "ax1.axhline(1.5,alpha=.3,lw=1.5,zorder=10)\n",
    "ax1.axhline(9.5,alpha=.5,lw=1.5,color=\"w\",zorder=10)\n",
    "\n",
    "# total information\n",
    "ax2.plot(timevec,sum(BI,dims=2),\"k\")\n",
    "ax1.fill_between(timevec,32*ones(length(timevec)),0.5 .+ bits_with_information,\n",
    "                color=\"grey\",alpha=0.2,step=\"mid\",label=\"false information\")\n",
    "ax1.plot(timevec,0.5 .+ bits_with_information,\"C1\",ds=\"steps-mid\",label=\">98% of information contained\")\n",
    "\n",
    "\n",
    "# only for legend\n",
    "ax1.fill_between([0,0],[0,0],color=\"w\",label=\"unused bits\")\n",
    "\n",
    "# show bits\n",
    "ax1.add_patch(patches.Rectangle((-.4,.5),.4,1,edgecolor=\"k\",fill=false))\n",
    "for y in bitvec[2:20]\n",
    "    ax1.add_patch(patches.Rectangle((-.4,y-.5),.4,1,edgecolor=\"k\",fill=false))\n",
    "    \n",
    "    if y < 10\n",
    "        bit_string = string(y-1)\n",
    "    elseif y < 20\n",
    "        bit_string = string(y-9)\n",
    "    else\n",
    "        bit_string = \"⋮\"\n",
    "    end\n",
    "    \n",
    "    ax1.text(-.15,y+.1,bit_string,fontsize=7,ha=\"center\",va=\"center\")\n",
    "end\n",
    "\n",
    "# compression factors\n",
    "ax3.plot(timevec,Xzstd,\"C1\",label=\"Round+lossless\")\n",
    "ax3.plot(timevec,Xzfp,\"teal\",label=\"Zfp compression\")\n",
    "\n",
    "ax1.set_title(\"Ensemble bitwise information content of temperature globally\",loc=\"left\")\n",
    "ax2.set_title(\"Total ensemble information\",loc=\"left\")\n",
    "ax3.set_title(\"Ensemble compression\",loc=\"left\")\n",
    "\n",
    "ax1.set_title(\"a\",loc=\"right\",fontweight=\"bold\")\n",
    "ax2.set_title(\"b\",loc=\"right\",fontweight=\"bold\")\n",
    "ax3.set_title(\"c\",loc=\"right\",fontweight=\"bold\")\n",
    "ax1.legend(loc=4,ncol=3,fontsize=9)\n",
    "ax3.legend(loc=4,ncol=1,fontsize=8)\n",
    "\n",
    "ax1.set_xlim(-.4,360/24)\n",
    "ax2.set_xlim(0,360/24)\n",
    "ax3.set_xlim(0,360/24)\n",
    "\n",
    "ax1.set_ylim(20.5,0.5)\n",
    "ax2.set_ylim(1,4)\n",
    "ax3.set_ylim(40,140)\n",
    "\n",
    "ax1.set_yticks([1.5,9.5])\n",
    "ax2.set_yticks([1,2,3,4])\n",
    "ax3.set_yticks([60,100,140])\n",
    "ax3.set_yticks(40:10:140,minor=true)\n",
    "ax2.set_ylabel(\"bit\")\n",
    "ax1.set_yticklabels([])\n",
    "ax1.set_xticklabels([])\n",
    "ax2.set_xticklabels([])\n",
    "ax1.set_xticks(1:15,minor=true)\n",
    "ax2.set_xticks(1:15,minor=true)\n",
    "ax3.set_xticks(1:15,minor=true)\n",
    "ax3.set_xlabel(\"forecast lead time [days]\")\n",
    "\n",
    "ax2.grid(alpha=.2)\n",
    "ax3.grid(alpha=.2)\n",
    "\n",
    "ax3.yaxis.set_major_formatter(ticker.FormatStrFormatter(\"%dx\"))\n",
    "\n",
    "ax1.text(-0.5,1.3,\"sign bit\",ha=\"right\")\n",
    "ax1.text(-0.5,8,\"exponent bits\",rotation=90,ha=\"right\")\n",
    "ax1.text(-0.5,20,\"significant bits\",rotation=90,ha=\"right\")\n",
    "savefig(\"../plots/ensemble_information.png\")"
   ]
  },
  {
   "cell_type": "code",
   "execution_count": null,
   "metadata": {},
   "outputs": [],
   "source": []
  }
 ],
 "metadata": {
  "kernelspec": {
   "display_name": "Julia 1.5.2",
   "language": "julia",
   "name": "julia-1.5"
  },
  "language_info": {
   "file_extension": ".jl",
   "mimetype": "application/julia",
   "name": "julia",
   "version": "1.5.2"
  }
 },
 "nbformat": 4,
 "nbformat_minor": 4
}
