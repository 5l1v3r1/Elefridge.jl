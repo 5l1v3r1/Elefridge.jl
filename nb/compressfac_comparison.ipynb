{
 "cells": [
  {
   "cell_type": "code",
   "execution_count": 1,
   "metadata": {},
   "outputs": [],
   "source": [
    "using PyCall\n",
    "using JLD2\n",
    "using FileIO\n",
    "xr = pyimport(\"xarray\");\n",
    "using PyPlot\n",
    "using ZfpCompression\n",
    "ticker = pyimport(\"matplotlib.ticker\");\n",
    "using Elefridge\n",
    "using StatsBase, Statistics\n",
    "using NetCDF"
   ]
  },
  {
   "cell_type": "code",
   "execution_count": 2,
   "metadata": {},
   "outputs": [],
   "source": [
    "using TranscodingStreams,CodecZstd\n",
    "\n",
    "ZstdCompressorL3 = ZstdCompressor(level=3)\n",
    "TranscodingStreams.initialize(ZstdCompressorL3)\n",
    "\n",
    "ZstdCompressorL10 = ZstdCompressor(level=10)\n",
    "TranscodingStreams.initialize(ZstdCompressorL10)\n",
    "\n",
    "ZstdCompressorL22 = ZstdCompressor(level=22)\n",
    "TranscodingStreams.initialize(ZstdCompressorL22)"
   ]
  },
  {
   "cell_type": "code",
   "execution_count": 3,
   "metadata": {},
   "outputs": [],
   "source": [
    "ncfile = NetCDF.open(\"/data1/ens/ensemble.t.member1.steps1-90.ll.nc\")\n",
    "temp = ncfile.vars[\"t\"][:,:,:,:];\n",
    "\n",
    "ncfile2 = NetCDF.open(\"/data1/full_vertical/z_cams_c_ecmf_20191201000000_test_fc_ml_000_t.nc\")\n",
    "tempv = ncfile2.vars[\"t\"][:,:,:];"
   ]
  },
  {
   "cell_type": "code",
   "execution_count": 4,
   "metadata": {},
   "outputs": [
    {
     "data": {
      "text/plain": [
       "(1800, 901, 11, 90)"
      ]
     },
     "execution_count": 4,
     "metadata": {},
     "output_type": "execute_result"
    }
   ],
   "source": [
    "size(temp)"
   ]
  },
  {
   "cell_type": "code",
   "execution_count": 5,
   "metadata": {},
   "outputs": [
    {
     "data": {
      "text/plain": [
       "(900, 451, 137)"
      ]
     },
     "execution_count": 5,
     "metadata": {},
     "output_type": "execute_result"
    }
   ],
   "source": [
    "size(tempv)"
   ]
  },
  {
   "cell_type": "markdown",
   "metadata": {},
   "source": [
    "## 1. ZFP: Compress only horizontal 2D"
   ]
  },
  {
   "cell_type": "code",
   "execution_count": 4,
   "metadata": {
    "scrolled": true
   },
   "outputs": [],
   "source": [
    "cfs_zfp_2d_hori_all = fill(0.0,prod(size(temp)[3:4]))\n",
    "ori_size = sizeof(temp[:,:,1,1])*2   # relative to Float64\n",
    "\n",
    "j = 1\n",
    "for it in 1:size(temp)[4]\n",
    "    for iv in 1:size(temp)[3]\n",
    "        cfs_zfp_2d_hori_all[j] = ori_size/sizeof(zfp_compress(temp[:,:,iv,it],precision=11))\n",
    "        j += 1\n",
    "    end\n",
    "end"
   ]
  },
  {
   "cell_type": "markdown",
   "metadata": {},
   "source": [
    "## 2. ZFP: Compress spatial 3D"
   ]
  },
  {
   "cell_type": "code",
   "execution_count": 5,
   "metadata": {},
   "outputs": [],
   "source": [
    "cfs_zfp_3d_space_all = fill(0.0,size(temp)[4])\n",
    "ori_size = sizeof(temp[:,:,:,1])*2   # relative to Float64\n",
    "\n",
    "j = 1\n",
    "for it in 1:size(temp)[4]\n",
    "    cfs_zfp_3d_space_all[j] = ori_size/sizeof(zfp_compress(temp[:,:,:,it],precision=13))\n",
    "    j += 1\n",
    "end"
   ]
  },
  {
   "cell_type": "markdown",
   "metadata": {},
   "source": [
    "## 3. ZFP: Compress horizontal + time 3D"
   ]
  },
  {
   "cell_type": "code",
   "execution_count": 6,
   "metadata": {},
   "outputs": [],
   "source": [
    "cfs_zfp_3d_horitime_all = fill(0.0,size(temp)[3])\n",
    "ori_size = sizeof(temp[:,:,1,:])*2   # relative to Float64\n",
    "\n",
    "j = 1\n",
    "for iv in 1:size(temp)[3]\n",
    "    cfs_zfp_3d_horitime_all[j] = ori_size/sizeof(zfp_compress(temp[:,:,iv,:],precision=13))\n",
    "    j += 1\n",
    "end"
   ]
  },
  {
   "cell_type": "markdown",
   "metadata": {},
   "source": [
    "## 4. ZFP: Compress in space and time"
   ]
  },
  {
   "cell_type": "code",
   "execution_count": 19,
   "metadata": {},
   "outputs": [
    {
     "name": "stdout",
     "output_type": "stream",
     "text": [
      "13225326412530"
     ]
    }
   ],
   "source": [
    "nens = 5 #2\n",
    "cfs_zfp_4d_spacetime = fill(0.0,nens)    # calculate for nens ensemble members\n",
    "ori_size = sizeof(temp)*2   # relative to Float64\n",
    "\n",
    "for ie in 1:nens\n",
    "    ir = rand(1:50)\n",
    "    print(ie,ir)\n",
    "    path = ir > 25 ? \"/data2\" : \"/data1\"\n",
    "    ncfile = NetCDF.open(path*\"/ens/ensemble.t.member$ir.steps1-90.ll.nc\")\n",
    "    temp[:] = ncfile.vars[\"t\"][:,:,:,:];\n",
    "    cfs_zfp_4d_spacetime[ie] = ori_size/sizeof(zfp_compress(temp,precision=14))\n",
    "end\n",
    "\n",
    "# reload member 1\n",
    "ncfile = NetCDF.open(\"/data1/ens/ensemble.t.member1.steps1-90.ll.nc\")\n",
    "temp[:] = ncfile.vars[\"t\"][:,:,:,:];"
   ]
  },
  {
   "cell_type": "markdown",
   "metadata": {},
   "source": [
    "## 5. ZSTD COMPRESS ALONG VARIOUS DIMENSIONS"
   ]
  },
  {
   "cell_type": "code",
   "execution_count": 8,
   "metadata": {},
   "outputs": [
    {
     "name": "stdout",
     "output_type": "stream",
     "text": [
      "12345"
     ]
    }
   ],
   "source": [
    "n_montecarlo = 5\n",
    "\n",
    "# LONGITUDE\n",
    "cfs_zstd_longitude = fill(0.0,n_montecarlo)\n",
    "\n",
    "for i in 1:n_montecarlo\n",
    "    print(i)\n",
    "    tstart = 1+(i-1)*5\n",
    "    tend = tstart+10\n",
    "    Xr = round(temp[:,:,:,tstart:tend],7)\n",
    "    # no permutation of dimensions\n",
    "    Xr8 = copy(reinterpret(UInt8,vec(Xr)))\n",
    "    cfs_zstd_longitude[i] = 2*sizeof(Xr)/sizeof(transcode(ZstdCompressorL10,Xr8))\n",
    "end"
   ]
  },
  {
   "cell_type": "code",
   "execution_count": 9,
   "metadata": {},
   "outputs": [
    {
     "name": "stdout",
     "output_type": "stream",
     "text": [
      "12345"
     ]
    }
   ],
   "source": [
    "# LATITUDE\n",
    "cfs_zstd_latitude = fill(0.0,n_montecarlo)\n",
    "\n",
    "for i in 1:n_montecarlo\n",
    "    print(i)\n",
    "    tstart = 1+(i-1)*5\n",
    "    tend = tstart+10\n",
    "    Xr = round(temp[:,:,:,tstart:tend],7)\n",
    "    Xr = permutedims(Xr,[2,1,3,4])    # latitude first, then longitude etc\n",
    "    Xr8 = copy(reinterpret(UInt8,vec(Xr)))\n",
    "    cfs_zstd_latitude[i] = 2*sizeof(Xr)/sizeof(transcode(ZstdCompressorL10,Xr8))\n",
    "end"
   ]
  },
  {
   "cell_type": "code",
   "execution_count": 10,
   "metadata": {},
   "outputs": [
    {
     "name": "stdout",
     "output_type": "stream",
     "text": [
      "12345"
     ]
    }
   ],
   "source": [
    "# VERTICAL\n",
    "cfs_zstd_vertical = fill(0.0,n_montecarlo)\n",
    "\n",
    "for i in 1:n_montecarlo\n",
    "    print(i)\n",
    "    Xr = round(tempv[:,i:3:end,:],7)  # use dataset with all 137 vertical levels, but subsample latitudes\n",
    "    Xr = permutedims(Xr,[3,1,2])    # vertical first, then longitude etc\n",
    "    Xr8 = copy(reinterpret(UInt8,vec(Xr)))\n",
    "    cfs_zstd_vertical[i] = 2*sizeof(Xr)/sizeof(transcode(ZstdCompressorL10,Xr8))\n",
    "end"
   ]
  },
  {
   "cell_type": "code",
   "execution_count": 11,
   "metadata": {},
   "outputs": [
    {
     "name": "stdout",
     "output_type": "stream",
     "text": [
      "12345"
     ]
    }
   ],
   "source": [
    "# TIME\n",
    "cfs_zstd_time = fill(0.0,n_montecarlo)\n",
    "\n",
    "for i in 1:n_montecarlo\n",
    "    print(i)\n",
    "    Xr = round(temp[:,i:5:end,:,:],7)\n",
    "    Xr = permutedims(Xr,[4,1,2,3])    # time first, then longitude etc\n",
    "    Xr8 = copy(reinterpret(UInt8,vec(Xr)))\n",
    "    cfs_zstd_time[i] = 2*sizeof(Xr)/sizeof(transcode(ZstdCompressorL10,Xr8))\n",
    "end"
   ]
  },
  {
   "cell_type": "code",
   "execution_count": 15,
   "metadata": {},
   "outputs": [],
   "source": [
    "# ENSEMBLE\n",
    "Xzstd1,Xzfp1 = load(\"/home/milan/analysis/ensemble_compression_1-90.jld2\",\"Xzstd\",\"Xzfp\")\n",
    "Xzstd2,Xzfp2 = load(\"/home/milan/analysis/ensemble_compression_90-144.jld2\",\"Xzstd\",\"Xzfp\")\n",
    "Xzstd3,Xzfp3 = load(\"/home/milan/analysis/ensemble_compression_150-360.jld2\",\"Xzstd\",\"Xzfp\")\n",
    "cfs_zstd_ens = vcat(Xzstd1,Xzstd2,Xzstd3)\n",
    "cfs_zfp_ens = vcat(Xzfp1,Xzfp2,Xzfp3);"
   ]
  },
  {
   "cell_type": "markdown",
   "metadata": {},
   "source": [
    "## Calculate means and uncertainties"
   ]
  },
  {
   "cell_type": "code",
   "execution_count": 20,
   "metadata": {},
   "outputs": [
    {
     "data": {
      "text/plain": [
       "5-element Array{String,1}:\n",
       " \"Horizontal 2D\"\n",
       " \"Horizontal+Vertical 3D\"\n",
       " \"Horizontal+Time 3D\"\n",
       " \"Space+Time 4D\"\n",
       " \"Space+Ensemble 4D\""
      ]
     },
     "execution_count": 20,
     "metadata": {},
     "output_type": "execute_result"
    }
   ],
   "source": [
    "cfs_basic = [1,8/3,4]   # compression factors for uncompressed, 24-bit and 16-bit\n",
    "labels_basic = [\"No compression, any dimensions\",\"LinQuant24, any dimensions\",\"LogQuant16, any dimensions\"]\n",
    "\n",
    "# ZSTANDARD\n",
    "cfs_zstd = [1/mean(1.0 ./ cfs_zstd_longitude),    # geometric mean\n",
    "            1/mean(1.0 ./ cfs_zstd_latitude),\n",
    "            1/mean(1.0 ./ cfs_zstd_vertical),\n",
    "            1/mean(1.0 ./ cfs_zstd_time),\n",
    "            1/mean(1.0 ./ cfs_zstd_ens)]\n",
    "cfs_zstd5 = [1/minimum(1.0 ./ cfs_zstd_longitude),    # geometric\n",
    "            1/minimum(1.0 ./ cfs_zstd_latitude),\n",
    "            1/minimum(1.0 ./ cfs_zstd_vertical),\n",
    "            1/minimum(1.0 ./ cfs_zstd_time),\n",
    "            1/minimum(1.0 ./ cfs_zstd_ens)]\n",
    "cfs_zstd95 = [1/maximum(1.0 ./ cfs_zstd_longitude),    # geometric\n",
    "            1/maximum(1.0 ./ cfs_zstd_latitude),\n",
    "            1/maximum(1.0 ./ cfs_zstd_vertical),\n",
    "            1/maximum(1.0 ./ cfs_zstd_time),\n",
    "            1/maximum(1.0 ./ cfs_zstd_ens)]\n",
    "\n",
    "labels_zstd = [\"Longitude\",\"Latitude\",\n",
    "                \"Vertical\",\"Time\",\"Ensemble\"]\n",
    "\n",
    "# ZFP COMPRESSION\n",
    "cfs_zfp = [1/mean(1.0 ./ cfs_zfp_2d_hori_all),    # geometric mean\n",
    "           1/mean(1.0 ./ cfs_zfp_3d_space_all),\n",
    "           1/mean(1.0 ./ cfs_zfp_3d_horitime_all),\n",
    "           1/mean(1.0 ./ cfs_zfp_4d_spacetime),\n",
    "           1/mean(1.0 ./ cfs_zfp_ens)]\n",
    "cfs_zfp5 = [1/percentile(1.0 ./ cfs_zfp_2d_hori_all,5),    # geometric\n",
    "            1/percentile(1.0 ./ cfs_zfp_3d_space_all,5),\n",
    "            1/percentile(1.0 ./ cfs_zfp_3d_horitime_all,5),\n",
    "            1/percentile(1.0 ./ cfs_zfp_4d_spacetime,5),\n",
    "            1/percentile(1.0 ./ cfs_zfp_ens,5),]\n",
    "cfs_zfp95 = [1/percentile(1.0 ./ cfs_zfp_2d_hori_all,95),    # geometric\n",
    "            1/percentile(1.0 ./ cfs_zfp_3d_space_all,95),\n",
    "            1/percentile(1.0 ./ cfs_zfp_3d_horitime_all,95),\n",
    "            1/percentile(1.0 ./ cfs_zfp_4d_spacetime,95),\n",
    "            1/percentile(1.0 ./ cfs_zfp_ens,95),]\n",
    "labels_zfp = [\"Horizontal 2D\",\"Horizontal+Vertical 3D\",\n",
    "                \"Horizontal+Time 3D\",\"Space+Time 4D\",\"Space+Ensemble 4D\"]"
   ]
  },
  {
   "cell_type": "markdown",
   "metadata": {},
   "source": [
    "## PLOTTING"
   ]
  },
  {
   "cell_type": "code",
   "execution_count": 21,
   "metadata": {},
   "outputs": [
    {
     "data": {
      "image/png": "[encoded data removed]",
      "text/plain": [
       "Figure(PyObject <Figure size 800x500 with 1 Axes>)"
      ]
     },
     "metadata": {},
     "output_type": "display_data"
    }
   ],
   "source": [
    "# PLOT\n",
    "fig,ax1 = subplots(1,1,figsize=(8,5),sharex=true)\n",
    "\n",
    "alfa = 0.5\n",
    "xmax = 160\n",
    "\n",
    "i = 1\n",
    "for (cf,label) in zip(cfs_basic,labels_basic)\n",
    "    ax1.barh(i,cf,color=\"k\",alpha=alfa)\n",
    "    ax1.text(xmax-2,i,label,ha=\"right\",va=\"center\")\n",
    "    ax1.text(cf+2,i,string(round(Int,cf))*\"x\",ha=\"left\",va=\"center\")\n",
    "    i += 1\n",
    "end\n",
    "\n",
    "ax1.axhline(i-.3,color=\"k\",alpha=.2)\n",
    "ax1.text(40,i-.1,\"1-dimensional compression: Round+lossless\",va=\"top\",color=\"C1\",fontweight=\"bold\")\n",
    "i += 1\n",
    "\n",
    "for (cf,cf5,cf95,label) in zip(cfs_zstd,cfs_zstd5,cfs_zstd95,labels_zstd)\n",
    "    ax1.barh(i,cf,color=\"C1\",alpha=alfa)\n",
    "    ax1.plot([cf5,cf95],[i,i],\"C1\",lw=3,alpha=alfa)\n",
    "    ax1.text(xmax-2,i,label,ha=\"right\",va=\"center\")\n",
    "    ax1.text(5,i,string(round(Int,cf))*\"x\",ha=\"left\",va=\"center\")\n",
    "    i += 1\n",
    "end\n",
    "\n",
    "ax1.axhline(i-.3,color=\"k\",alpha=.2)\n",
    "ax1.text(40,i-.1,\"Multi-dimensional Zfp compression\",va=\"top\",color=\"teal\",fontweight=\"bold\")\n",
    "i += 1\n",
    "\n",
    "for (cf,cf5,cf95,label) in zip(cfs_zfp,cfs_zfp5,cfs_zfp95,labels_zfp)\n",
    "    ax1.barh(i,cf,color=\"teal\",alpha=alfa)\n",
    "    ax1.plot([cf5,cf95],[i,i],color=\"teal\",lw=3,alpha=alfa)\n",
    "    ax1.text(xmax-2,i,label,ha=\"right\",va=\"center\")\n",
    "    ax1.text(5,i,string(round(Int,cf))*\"x\",ha=\"left\",va=\"center\")\n",
    "    i += 1\n",
    "end\n",
    "\n",
    "ax1.xaxis.set_major_formatter(ticker.FormatStrFormatter(\"%dx\"))\n",
    "ax1.invert_yaxis()\n",
    "ax1.set_yticks([])\n",
    "ax1.set_xlim(0,xmax)\n",
    "ax1.set_xlabel(\"Compression factor\")\n",
    "ax1.set_title(\"Compressing temperature's real information in different dimensions\",loc=\"left\")\n",
    "ax1.grid(alpha=0.1)\n",
    "tight_layout()\n",
    "savefig(\"../plots/cfs_dimensions.png\")"
   ]
  },
  {
   "cell_type": "code",
   "execution_count": null,
   "metadata": {},
   "outputs": [],
   "source": []
  },
  {
   "cell_type": "code",
   "execution_count": null,
   "metadata": {},
   "outputs": [],
   "source": []
  }
 ],
 "metadata": {
  "kernelspec": {
   "display_name": "Julia 1.5.2",
   "language": "julia",
   "name": "julia-1.5"
  },
  "language_info": {
   "file_extension": ".jl",
   "mimetype": "application/julia",
   "name": "julia",
   "version": "1.5.2"
  }
 },
 "nbformat": 4,
 "nbformat_minor": 4
}
